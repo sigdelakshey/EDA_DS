{
  "nbformat": 4,
  "nbformat_minor": 0,
  "metadata": {
    "colab": {
      "name": "EDA_US_Accidents.ipynb",
      "provenance": [],
      "collapsed_sections": [
        "gcrV4QYLkHEg",
        "xWci__Jwlbov",
        "oD-wiUXK3oib",
        "S0ZSK6e1KWUO"
      ],
      "authorship_tag": "ABX9TyMVXzWd6qidbCkXKKsh5Dni",
      "include_colab_link": true
    },
    "kernelspec": {
      "display_name": "Python 3",
      "name": "python3"
    },
    "language_info": {
      "name": "python"
    }
  },
  "cells": [
    {
      "cell_type": "markdown",
      "metadata": {
        "id": "view-in-github",
        "colab_type": "text"
      },
      "source": [
        "<a href=\"https://colab.research.google.com/github/sigdelakshey/EDA_DS/blob/main/EDA_US_Accidents.ipynb\" target=\"_parent\"><img src=\"https://colab.research.google.com/assets/colab-badge.svg\" alt=\"Open In Colab\"/></a>"
      ]
    },
    {
      "cell_type": "markdown",
      "metadata": {
        "id": "c4tSuhZ6rTCU"
      },
      "source": [
        "# Exploratory Data Analysis\n",
        "\n",
        "### Steps Followed\n",
        "\n",
        "\n",
        "\n",
        "> 1. Selecting a large Real-World Dataset\n",
        "\n",
        "> 2. Data Preparation & Cleaning using Pandas and Numpy\n",
        "\n",
        "> 3. Exploratory Analysis & Visualization using Matplotlib & Seaborn\n",
        "\n",
        "> 4. Summarization, Inference & Conclusion\n",
        "\n",
        "> 5. Documentation and Publication Online\n"
      ]
    },
    {
      "cell_type": "markdown",
      "metadata": {
        "id": "zkJZaluUtqZy"
      },
      "source": [
        "## 1. EDA_US_Accidents\n",
        "  - Dataset Source: Kaggel\n",
        "  - Dataset Size: 1GB\n",
        "  - Dataset Description: US car accidents dataset which covers **49** states of the USA. It contains about **3 million**  accidents records.\n",
        "  -This Datasets can provide useful information about accidents and help us come up with preventive measaures.\n",
        "\n"
      ]
    },
    {
      "cell_type": "markdown",
      "metadata": {
        "id": "Wy8aNUPcwDfu"
      },
      "source": [
        "\n",
        "\n",
        "> Downloading Dataset\n",
        "\n"
      ]
    },
    {
      "cell_type": "code",
      "metadata": {
        "colab": {
          "base_uri": "https://localhost:8080/"
        },
        "id": "-lTfY_H7pci-",
        "outputId": "72cb9b5e-a390-4abd-8a46-c5e38a836305"
      },
      "source": [
        "pip install opendatasets --upgrade"
      ],
      "execution_count": null,
      "outputs": [
        {
          "output_type": "stream",
          "text": [
            "Requirement already up-to-date: opendatasets in /usr/local/lib/python3.7/dist-packages (0.1.20)\n",
            "Requirement already satisfied, skipping upgrade: kaggle in /usr/local/lib/python3.7/dist-packages (from opendatasets) (1.5.12)\n",
            "Requirement already satisfied, skipping upgrade: tqdm in /usr/local/lib/python3.7/dist-packages (from opendatasets) (4.41.1)\n",
            "Requirement already satisfied, skipping upgrade: click in /usr/local/lib/python3.7/dist-packages (from opendatasets) (7.1.2)\n",
            "Requirement already satisfied, skipping upgrade: python-dateutil in /usr/local/lib/python3.7/dist-packages (from kaggle->opendatasets) (2.8.1)\n",
            "Requirement already satisfied, skipping upgrade: python-slugify in /usr/local/lib/python3.7/dist-packages (from kaggle->opendatasets) (5.0.2)\n",
            "Requirement already satisfied, skipping upgrade: requests in /usr/local/lib/python3.7/dist-packages (from kaggle->opendatasets) (2.23.0)\n",
            "Requirement already satisfied, skipping upgrade: certifi in /usr/local/lib/python3.7/dist-packages (from kaggle->opendatasets) (2021.5.30)\n",
            "Requirement already satisfied, skipping upgrade: six>=1.10 in /usr/local/lib/python3.7/dist-packages (from kaggle->opendatasets) (1.15.0)\n",
            "Requirement already satisfied, skipping upgrade: urllib3 in /usr/local/lib/python3.7/dist-packages (from kaggle->opendatasets) (1.24.3)\n",
            "Requirement already satisfied, skipping upgrade: text-unidecode>=1.3 in /usr/local/lib/python3.7/dist-packages (from python-slugify->kaggle->opendatasets) (1.3)\n",
            "Requirement already satisfied, skipping upgrade: chardet<4,>=3.0.2 in /usr/local/lib/python3.7/dist-packages (from requests->kaggle->opendatasets) (3.0.4)\n",
            "Requirement already satisfied, skipping upgrade: idna<3,>=2.5 in /usr/local/lib/python3.7/dist-packages (from requests->kaggle->opendatasets) (2.10)\n"
          ],
          "name": "stdout"
        }
      ]
    },
    {
      "cell_type": "code",
      "metadata": {
        "id": "OR5mk4Nzwbsd",
        "colab": {
          "base_uri": "https://localhost:8080/"
        },
        "outputId": "65d0c38e-0a69-4639-8581-acf265eeea7d"
      },
      "source": [
        "import opendatasets as od\n",
        "download_url='https://www.kaggle.com/sobhanmoosavi/us-accidents'\n",
        "od.download(download_url)\n"
      ],
      "execution_count": null,
      "outputs": [
        {
          "output_type": "stream",
          "text": [
            "Skipping, found downloaded files in \"./us-accidents\" (use force=True to force download)\n",
            "Skipping, found downloaded files in \"./us-accidents\" (use force=True to force download)\n"
          ],
          "name": "stdout"
        }
      ]
    },
    {
      "cell_type": "code",
      "metadata": {
        "id": "OvQlfhFZxb9U"
      },
      "source": [
        "data_filename='./us-accidents/US_Accidents_Dec20_Updated.csv'"
      ],
      "execution_count": null,
      "outputs": []
    },
    {
      "cell_type": "markdown",
      "metadata": {
        "id": "wDqvT8bLRD0X"
      },
      "source": [
        "## 2. Data Preparation & Cleaning\n",
        "\n",
        "  - Loading dataset using pandas\n",
        "  - Looking up through data and columns\n",
        "  - Handling consistency & missing values\n",
        "\n"
      ]
    },
    {
      "cell_type": "code",
      "metadata": {
        "id": "twEhpy1iQ3c7"
      },
      "source": [
        "import pandas as pd\n",
        "df = pd.read_csv(data_filename)\n",
        "df"
      ],
      "execution_count": null,
      "outputs": []
    },
    {
      "cell_type": "code",
      "metadata": {
        "id": "34obWTm8Sa2d"
      },
      "source": [
        "df.info()"
      ],
      "execution_count": null,
      "outputs": []
    },
    {
      "cell_type": "code",
      "metadata": {
        "id": "k9wcO3bxSrjk"
      },
      "source": [
        "df.describe()"
      ],
      "execution_count": null,
      "outputs": []
    },
    {
      "cell_type": "markdown",
      "metadata": {
        "id": "1w5TJdFZTsJx"
      },
      "source": [
        "\n",
        "> Finding number of numeric columns\n",
        "\n"
      ]
    },
    {
      "cell_type": "code",
      "metadata": {
        "id": "twjcmp20SzSa"
      },
      "source": [
        " numerics = ['int16', 'int32', 'int64', 'float16', 'float32', 'float64']\n",
        " numeric_df=df.select_dtypes(include=numerics)\n",
        " len(numeric_df.columns)"
      ],
      "execution_count": null,
      "outputs": []
    },
    {
      "cell_type": "markdown",
      "metadata": {
        "id": "b88sd3H8U-fU"
      },
      "source": [
        "\n",
        "\n",
        "> Counting missing values per columns\n",
        "\n"
      ]
    },
    {
      "cell_type": "code",
      "metadata": {
        "id": "1zLekXPvU9JF"
      },
      "source": [
        "df.isna().sum()"
      ],
      "execution_count": null,
      "outputs": []
    },
    {
      "cell_type": "markdown",
      "metadata": {
        "id": "0ovhxf4BVZrr"
      },
      "source": [
        "\n",
        "\n",
        "> Percentage of missing values per columns\n",
        "\n"
      ]
    },
    {
      "cell_type": "code",
      "metadata": {
        "id": "umj7TmQfVVYB"
      },
      "source": [
        "missing_percent= df.isna().sum().sort_values(ascending=False) / len(df)\n",
        "missing_percent"
      ],
      "execution_count": null,
      "outputs": []
    },
    {
      "cell_type": "code",
      "metadata": {
        "id": "WDc7mSXbXfd3"
      },
      "source": [
        "missing_percent[missing_percent != 0]"
      ],
      "execution_count": null,
      "outputs": []
    },
    {
      "cell_type": "code",
      "metadata": {
        "id": "j9DuhG7TWn0y"
      },
      "source": [
        " missing_percent[missing_percent!=0].plot(kind='barh')"
      ],
      "execution_count": null,
      "outputs": []
    },
    {
      "cell_type": "markdown",
      "metadata": {
        "id": "g5lAVixJYNZl"
      },
      "source": [
        "## 3. Exploratory Analysis & Visualization\n",
        "\n",
        "\n",
        "\n"
      ]
    },
    {
      "cell_type": "code",
      "metadata": {
        "id": "tTEYsIlJZI3I"
      },
      "source": [
        "df.columns"
      ],
      "execution_count": null,
      "outputs": []
    },
    {
      "cell_type": "markdown",
      "metadata": {
        "id": "S8iSZ0MdZKAM"
      },
      "source": [
        "\n",
        "\n",
        "> Picking up few columns to work with\n",
        "  1. City\n",
        "  2. Start Time\n",
        "  3. Start_Lat, Start_Lng\n",
        "  4. Weather_condition\n",
        "\n"
      ]
    },
    {
      "cell_type": "markdown",
      "metadata": {
        "id": "gcrV4QYLkHEg"
      },
      "source": [
        "### City"
      ]
    },
    {
      "cell_type": "code",
      "metadata": {
        "id": "HPA2EOAGaY0W"
      },
      "source": [
        "cities= df.City.unique()\n",
        "len(cities)"
      ],
      "execution_count": null,
      "outputs": []
    },
    {
      "cell_type": "code",
      "metadata": {
        "id": "Vdibs5OUbpc2"
      },
      "source": [
        "cities_accident = df.City.value_counts()\n",
        "cities_accident[:20]"
      ],
      "execution_count": null,
      "outputs": []
    },
    {
      "cell_type": "markdown",
      "metadata": {
        "id": "ko1_vmsLcIVY"
      },
      "source": [
        "\n",
        "\n",
        "> Common Knowledge: New York; state with highest population doesn't seem to present even in Top 20 in terms of car accidents which is pretty unusal\n",
        "\n"
      ]
    },
    {
      "cell_type": "code",
      "metadata": {
        "id": "Tv-5QFzgctzs"
      },
      "source": [
        "'New York' in df.City"
      ],
      "execution_count": null,
      "outputs": []
    },
    {
      "cell_type": "code",
      "metadata": {
        "id": "imAkeRvrc-Fl"
      },
      "source": [
        "'NY' in df.State"
      ],
      "execution_count": null,
      "outputs": []
    },
    {
      "cell_type": "markdown",
      "metadata": {
        "id": "ZGKwHkKmdCvT"
      },
      "source": [
        "\n",
        "\n",
        "> Dataset seems to not have any records about car accidents that happened in New York meaning....New York is the missing state.\n"
      ]
    },
    {
      "cell_type": "code",
      "metadata": {
        "id": "ZoJ-QDuTdgH0"
      },
      "source": [
        "cities_accident[:20].plot(kind='barh')"
      ],
      "execution_count": null,
      "outputs": []
    },
    {
      "cell_type": "code",
      "metadata": {
        "id": "c5rVLgxxeG4g"
      },
      "source": [
        "import seaborn as sns\n",
        "sns.set_style(\"darkgrid\")\n"
      ],
      "execution_count": null,
      "outputs": []
    },
    {
      "cell_type": "code",
      "metadata": {
        "colab": {
          "background_save": true
        },
        "id": "kiaIvhcmkcHN",
        "outputId": "133a735d-1658-4ce8-a4db-da4896ae6ae8"
      },
      "source": [
        "sns.distplot(cities_accident)"
      ],
      "execution_count": null,
      "outputs": [
        {
          "output_type": "stream",
          "text": [
            "/usr/local/lib/python3.7/dist-packages/seaborn/distributions.py:2557: FutureWarning: `distplot` is a deprecated function and will be removed in a future version. Please adapt your code to use either `displot` (a figure-level function with similar flexibility) or `histplot` (an axes-level function for histograms).\n",
            "  warnings.warn(msg, FutureWarning)\n"
          ],
          "name": "stderr"
        },
        {
          "output_type": "execute_result",
          "data": {
            "text/plain": [
              "<matplotlib.axes._subplots.AxesSubplot at 0x7efd500ca250>"
            ]
          },
          "metadata": {
            "tags": []
          },
          "execution_count": 0
        },
        {
          "output_type": "display_data",
          "data": {
            "image/png": "[encoded data removed]",
            "text/plain": [
              "<Figure size 432x288 with 1 Axes>"
            ]
          },
          "metadata": {
            "tags": []
          }
        }
      ]
    },
    {
      "cell_type": "code",
      "metadata": {
        "colab": {
          "background_save": true
        },
        "id": "36gaIMIVioyB"
      },
      "source": [
        "high_accident_cities = cities_accident[cities_accident >= 1000]\n",
        "low_accident_cities = cities_accident[cities_accident < 1000]"
      ],
      "execution_count": null,
      "outputs": []
    },
    {
      "cell_type": "code",
      "metadata": {
        "colab": {
          "background_save": true
        },
        "id": "UBpu5jvpjC7U",
        "outputId": "df45c0d2-cc28-4d74-b541-d6345c840415"
      },
      "source": [
        "len(high_accident_cities)"
      ],
      "execution_count": null,
      "outputs": [
        {
          "output_type": "execute_result",
          "data": {
            "text/plain": [
              "513"
            ]
          },
          "metadata": {
            "tags": []
          },
          "execution_count": 0
        }
      ]
    },
    {
      "cell_type": "code",
      "metadata": {
        "colab": {
          "background_save": true
        },
        "id": "2mm5ZIEgjUi-",
        "outputId": "baad4850-b1a0-410c-be2b-abbfe6334b3f"
      },
      "source": [
        "len(high_accident_cities)/ len(cities)"
      ],
      "execution_count": null,
      "outputs": [
        {
          "output_type": "execute_result",
          "data": {
            "text/plain": [
              "0.04351145038167939"
            ]
          },
          "metadata": {
            "tags": []
          },
          "execution_count": 0
        }
      ]
    },
    {
      "cell_type": "code",
      "metadata": {
        "colab": {
          "background_save": true
        },
        "id": "vChO-soAjzTJ",
        "outputId": "b37a2d2d-dcd1-4b5f-f5d2-f903e876e6d7"
      },
      "source": [
        "sns.distplot(high_accident_cities)"
      ],
      "execution_count": null,
      "outputs": [
        {
          "output_type": "stream",
          "text": [
            "/usr/local/lib/python3.7/dist-packages/seaborn/distributions.py:2557: FutureWarning: `distplot` is a deprecated function and will be removed in a future version. Please adapt your code to use either `displot` (a figure-level function with similar flexibility) or `histplot` (an axes-level function for histograms).\n",
            "  warnings.warn(msg, FutureWarning)\n"
          ],
          "name": "stderr"
        },
        {
          "output_type": "execute_result",
          "data": {
            "text/plain": [
              "<matplotlib.axes._subplots.AxesSubplot at 0x7efd4576df10>"
            ]
          },
          "metadata": {
            "tags": []
          },
          "execution_count": 0
        },
        {
          "output_type": "display_data",
          "data": {
            "image/png": "[encoded data removed]",
            "text/plain": [
              "<Figure size 432x288 with 1 Axes>"
            ]
          },
          "metadata": {
            "tags": []
          }
        }
      ]
    },
    {
      "cell_type": "code",
      "metadata": {
        "colab": {
          "background_save": true
        },
        "id": "WX8d4hl4jNjp",
        "outputId": "9600231f-9a71-425c-9d66-dce4da8e0d9f"
      },
      "source": [
        "len(low_accident_cities)"
      ],
      "execution_count": null,
      "outputs": [
        {
          "output_type": "execute_result",
          "data": {
            "text/plain": [
              "11276"
            ]
          },
          "metadata": {
            "tags": []
          },
          "execution_count": 0
        }
      ]
    },
    {
      "cell_type": "code",
      "metadata": {
        "colab": {
          "background_save": true
        },
        "id": "0iTjOmzRjhXU",
        "outputId": "f829fc5d-2ec0-40ac-f77d-e2f1bf7b9498"
      },
      "source": [
        "len(low_accident_cities)/len(cities)"
      ],
      "execution_count": null,
      "outputs": [
        {
          "output_type": "execute_result",
          "data": {
            "text/plain": [
              "0.9564037319762511"
            ]
          },
          "metadata": {
            "tags": []
          },
          "execution_count": 0
        }
      ]
    },
    {
      "cell_type": "code",
      "metadata": {
        "colab": {
          "background_save": true
        },
        "id": "yILtQidkj27z",
        "outputId": "cdd93a8d-5ccb-4ead-8986-a843887f7b37"
      },
      "source": [
        "sns.distplot(low_accident_cities)"
      ],
      "execution_count": null,
      "outputs": [
        {
          "output_type": "stream",
          "text": [
            "/usr/local/lib/python3.7/dist-packages/seaborn/distributions.py:2557: FutureWarning: `distplot` is a deprecated function and will be removed in a future version. Please adapt your code to use either `displot` (a figure-level function with similar flexibility) or `histplot` (an axes-level function for histograms).\n",
            "  warnings.warn(msg, FutureWarning)\n"
          ],
          "name": "stderr"
        },
        {
          "output_type": "execute_result",
          "data": {
            "text/plain": [
              "<matplotlib.axes._subplots.AxesSubplot at 0x7efd45688ed0>"
            ]
          },
          "metadata": {
            "tags": []
          },
          "execution_count": 0
        },
        {
          "output_type": "display_data",
          "data": {
            "image/png": "[encoded data removed]",
            "text/plain": [
              "<Figure size 432x288 with 1 Axes>"
            ]
          },
          "metadata": {
            "tags": []
          }
        }
      ]
    },
    {
      "cell_type": "code",
      "metadata": {
        "colab": {
          "background_save": true
        },
        "id": "0HJNhAyGkx7L",
        "outputId": "b2e4c9f2-2df7-479d-c97b-d26f25956c96"
      },
      "source": [
        "sns.histplot(cities_accident, log_scale= True)"
      ],
      "execution_count": null,
      "outputs": [
        {
          "output_type": "execute_result",
          "data": {
            "text/plain": [
              "<matplotlib.axes._subplots.AxesSubplot at 0x7efd4556e590>"
            ]
          },
          "metadata": {
            "tags": []
          },
          "execution_count": 0
        },
        {
          "output_type": "display_data",
          "data": {
            "image/png": "[encoded data removed]",
            "text/plain": [
              "<Figure size 432x288 with 1 Axes>"
            ]
          },
          "metadata": {
            "tags": []
          }
        }
      ]
    },
    {
      "cell_type": "code",
      "metadata": {
        "colab": {
          "background_save": true
        },
        "id": "HjVyDzrVk-ce",
        "outputId": "a6e85f51-03a5-4cf4-881b-cc0aa92d1a1f"
      },
      "source": [
        "cities_accident[cities_accident==1]"
      ],
      "execution_count": null,
      "outputs": [
        {
          "output_type": "execute_result",
          "data": {
            "text/plain": [
              "Township 9       1\n",
              "Swampscott       1\n",
              "Margaretville    1\n",
              "Thawville        1\n",
              "Grover Beach     1\n",
              "                ..\n",
              "Chelan           1\n",
              "Ponca            1\n",
              "Toutle           1\n",
              "Monarch          1\n",
              "Glenfield        1\n",
              "Name: City, Length: 1306, dtype: int64"
            ]
          },
          "metadata": {
            "tags": []
          },
          "execution_count": 0
        }
      ]
    },
    {
      "cell_type": "markdown",
      "metadata": {
        "id": "xWci__Jwlbov"
      },
      "source": [
        "### Start Time"
      ]
    },
    {
      "cell_type": "code",
      "metadata": {
        "colab": {
          "background_save": true
        },
        "id": "SpdlQ1gHlukw",
        "outputId": "a50aab09-4a24-4f8b-8750-984035f909db"
      },
      "source": [
        "df.Start_Time"
      ],
      "execution_count": null,
      "outputs": [
        {
          "output_type": "execute_result",
          "data": {
            "text/plain": [
              "0          2019-05-21 08:29:55\n",
              "1          2019-10-07 17:43:09\n",
              "2          2020-12-13 21:53:00\n",
              "3          2018-04-17 16:51:23\n",
              "4          2016-08-31 17:40:49\n",
              "                  ...         \n",
              "2906605    2018-06-28 08:49:01\n",
              "2906606    2019-01-10 02:01:01\n",
              "2906607    2020-11-23 12:52:00\n",
              "2906608    2019-12-29 22:38:00\n",
              "2906609    2018-03-26 13:35:03\n",
              "Name: Start_Time, Length: 2906610, dtype: object"
            ]
          },
          "metadata": {
            "tags": []
          },
          "execution_count": 0
        }
      ]
    },
    {
      "cell_type": "code",
      "metadata": {
        "colab": {
          "background_save": true
        },
        "id": "q2FGarN8l3Xi",
        "outputId": "271bb9ea-bcd1-41ea-c497-4240e89f00ab"
      },
      "source": [
        "df.Start_Time[0]"
      ],
      "execution_count": null,
      "outputs": [
        {
          "output_type": "execute_result",
          "data": {
            "application/vnd.google.colaboratory.intrinsic+json": {
              "type": "string"
            },
            "text/plain": [
              "'2019-05-21 08:29:55'"
            ]
          },
          "metadata": {
            "tags": []
          },
          "execution_count": 0
        }
      ]
    },
    {
      "cell_type": "code",
      "metadata": {
        "id": "krFrzCOml9Is"
      },
      "source": [
        "df.Start_Time= pd.to_datetime(df.Start_Time)\n",
        "df.Start_Time[0]"
      ],
      "execution_count": null,
      "outputs": []
    },
    {
      "cell_type": "code",
      "metadata": {
        "id": "CUj5rrZqpt5L"
      },
      "source": [
        "sns.distplot(df.Start_Time.dt.hour, bins=24, norm_hist=True, kde=False)"
      ],
      "execution_count": null,
      "outputs": []
    },
    {
      "cell_type": "markdown",
      "metadata": {
        "id": "wNCnXicJq2HF"
      },
      "source": [
        "\n",
        "\n",
        "> High % of accidents seems to occur between 6 am to 10 am  &  3 pm to 6 pm\n",
        "   ( reason may be because are hurry to get back and forth to work )\n",
        "\n"
      ]
    },
    {
      "cell_type": "code",
      "metadata": {
        "id": "EnB_f3AXrxCE"
      },
      "source": [
        "sns.distplot(df.Start_Time.dt.dayofweek, bins=7, norm_hist=True, kde=False)"
      ],
      "execution_count": null,
      "outputs": []
    },
    {
      "cell_type": "markdown",
      "metadata": {
        "id": "TXfQKWAFsKim"
      },
      "source": [
        "\n",
        "\n",
        "> Less accidents to happen during Weekends ( reason may be there is no work for people on these days )\n",
        "\n"
      ]
    },
    {
      "cell_type": "code",
      "metadata": {
        "id": "XiZ6IqH8sd6t"
      },
      "source": [
        "sundays_ST= df.Start_Time[df.Start_Time.dt.dayofweek == 6]\n",
        "sns.distplot(sundays_ST.dt.hour, bins=24, norm_hist=True, kde=False)"
      ],
      "execution_count": null,
      "outputs": []
    },
    {
      "cell_type": "code",
      "metadata": {
        "id": "c1_bnGEZtgpk"
      },
      "source": [
        "saturdays_ST= df.Start_Time[df.Start_Time.dt.dayofweek == 5]\n",
        "sns.distplot(saturdays_ST.dt.hour, bins=24, norm_hist=True, kde=False)"
      ],
      "execution_count": null,
      "outputs": []
    },
    {
      "cell_type": "code",
      "metadata": {
        "id": "i8_HHav_tJwK",
        "colab": {
          "base_uri": "https://localhost:8080/"
        },
        "outputId": "6f57f4bb-dcba-403c-ee69-a68ca758cde2"
      },
      "source": [
        "mondays_ST= df.Start_Time[df.Start_Time.dt.dayofweek == 0]\n",
        "sns.distplot(mondays_ST.dt.hour, bins=24, norm_hist=True, kde=False)"
      ],
      "execution_count": null,
      "outputs": [
        {
          "output_type": "stream",
          "text": [
            "/usr/local/lib/python3.7/dist-packages/seaborn/distributions.py:2557: FutureWarning: `distplot` is a deprecated function and will be removed in a future version. Please adapt your code to use either `displot` (a figure-level function with similar flexibility) or `histplot` (an axes-level function for histograms).\n",
            "  warnings.warn(msg, FutureWarning)\n"
          ],
          "name": "stderr"
        },
        {
          "output_type": "execute_result",
          "data": {
            "text/plain": [
              "<matplotlib.axes._subplots.AxesSubplot at 0x7efd4513bcd0>"
            ]
          },
          "metadata": {
            "tags": []
          },
          "execution_count": 0
        },
        {
          "output_type": "display_data",
          "data": {
            "image/png": "[encoded data removed]",
            "text/plain": [
              "<Figure size 432x288 with 1 Axes>"
            ]
          },
          "metadata": {
            "tags": []
          }
        }
      ]
    },
    {
      "cell_type": "markdown",
      "metadata": {
        "id": "g5JNUQhjtU-2"
      },
      "source": [
        "\n",
        "\n",
        "> Distribution of accidents over an hour on weekends seems to be more evenly distributed than on normal weekdays\n",
        "\n"
      ]
    },
    {
      "cell_type": "code",
      "metadata": {
        "id": "hHk1ZzIbt2_s",
        "colab": {
          "base_uri": "https://localhost:8080/"
        },
        "outputId": "d9665103-142d-4072-f35c-466cda0a4b99"
      },
      "source": [
        "sns.distplot(df.Start_Time.dt.month, bins=12, norm_hist=True, kde=False)"
      ],
      "execution_count": null,
      "outputs": [
        {
          "output_type": "stream",
          "text": [
            "/usr/local/lib/python3.7/dist-packages/seaborn/distributions.py:2557: FutureWarning: `distplot` is a deprecated function and will be removed in a future version. Please adapt your code to use either `displot` (a figure-level function with similar flexibility) or `histplot` (an axes-level function for histograms).\n",
            "  warnings.warn(msg, FutureWarning)\n"
          ],
          "name": "stderr"
        },
        {
          "output_type": "execute_result",
          "data": {
            "text/plain": [
              "<matplotlib.axes._subplots.AxesSubplot at 0x7efd450d3250>"
            ]
          },
          "metadata": {
            "tags": []
          },
          "execution_count": 0
        },
        {
          "output_type": "display_data",
          "data": {
            "image/png": "[encoded data removed]",
            "text/plain": [
              "<Figure size 432x288 with 1 Axes>"
            ]
          },
          "metadata": {
            "tags": []
          }
        }
      ]
    },
    {
      "cell_type": "markdown",
      "metadata": {
        "id": "5XrdSfGzu2jW"
      },
      "source": [
        "\n",
        "\n",
        "> Accidents seems to occur more in winter than in summer ????\n",
        "\n"
      ]
    },
    {
      "cell_type": "code",
      "metadata": {
        "id": "mb6ncn0AvBsC",
        "colab": {
          "base_uri": "https://localhost:8080/"
        },
        "outputId": "c5279054-44e4-4389-abb2-69943864f3af"
      },
      "source": [
        "df_2019 = df[df.Start_Time.dt.year == 2019]\n",
        "sns.distplot(df_2019.Start_Time.dt.month, bins=12, norm_hist=True, kde=False)"
      ],
      "execution_count": null,
      "outputs": [
        {
          "output_type": "stream",
          "text": [
            "/usr/local/lib/python3.7/dist-packages/seaborn/distributions.py:2557: FutureWarning: `distplot` is a deprecated function and will be removed in a future version. Please adapt your code to use either `displot` (a figure-level function with similar flexibility) or `histplot` (an axes-level function for histograms).\n",
            "  warnings.warn(msg, FutureWarning)\n"
          ],
          "name": "stderr"
        },
        {
          "output_type": "execute_result",
          "data": {
            "text/plain": [
              "<matplotlib.axes._subplots.AxesSubplot at 0x7efd4503d9d0>"
            ]
          },
          "metadata": {
            "tags": []
          },
          "execution_count": 0
        },
        {
          "output_type": "display_data",
          "data": {
            "image/png": "[encoded data removed]",
            "text/plain": [
              "<Figure size 432x288 with 1 Axes>"
            ]
          },
          "metadata": {
            "tags": []
          }
        }
      ]
    },
    {
      "cell_type": "code",
      "metadata": {
        "id": "s04g-E2Yvwzs",
        "colab": {
          "base_uri": "https://localhost:8080/"
        },
        "outputId": "5136fbd0-b3ea-4048-e2a2-496f5de562d7"
      },
      "source": [
        "df_2018 = df[df.Start_Time.dt.year == 2018]\n",
        "sns.distplot(df_2018.Start_Time.dt.month, bins=12, norm_hist=True, kde=False)"
      ],
      "execution_count": null,
      "outputs": [
        {
          "output_type": "stream",
          "text": [
            "/usr/local/lib/python3.7/dist-packages/seaborn/distributions.py:2557: FutureWarning: `distplot` is a deprecated function and will be removed in a future version. Please adapt your code to use either `displot` (a figure-level function with similar flexibility) or `histplot` (an axes-level function for histograms).\n",
            "  warnings.warn(msg, FutureWarning)\n"
          ],
          "name": "stderr"
        },
        {
          "output_type": "execute_result",
          "data": {
            "text/plain": [
              "<matplotlib.axes._subplots.AxesSubplot at 0x7efd44fba850>"
            ]
          },
          "metadata": {
            "tags": []
          },
          "execution_count": 0
        },
        {
          "output_type": "display_data",
          "data": {
            "image/png": "[encoded data removed]",
            "text/plain": [
              "<Figure size 432x288 with 1 Axes>"
            ]
          },
          "metadata": {
            "tags": []
          }
        }
      ]
    },
    {
      "cell_type": "code",
      "metadata": {
        "id": "3QE_HDClv1bH",
        "colab": {
          "base_uri": "https://localhost:8080/"
        },
        "outputId": "4bb59e8a-71fc-404c-f392-fc8352f6241e"
      },
      "source": [
        "df_2017 = df[df.Start_Time.dt.year == 2017]\n",
        "sns.distplot(df_2017.Start_Time.dt.month, bins=12, norm_hist=True, kde=False)"
      ],
      "execution_count": null,
      "outputs": [
        {
          "output_type": "stream",
          "text": [
            "/usr/local/lib/python3.7/dist-packages/seaborn/distributions.py:2557: FutureWarning: `distplot` is a deprecated function and will be removed in a future version. Please adapt your code to use either `displot` (a figure-level function with similar flexibility) or `histplot` (an axes-level function for histograms).\n",
            "  warnings.warn(msg, FutureWarning)\n"
          ],
          "name": "stderr"
        },
        {
          "output_type": "execute_result",
          "data": {
            "text/plain": [
              "<matplotlib.axes._subplots.AxesSubplot at 0x7efd44f82550>"
            ]
          },
          "metadata": {
            "tags": []
          },
          "execution_count": 0
        },
        {
          "output_type": "display_data",
          "data": {
            "image/png": "[encoded data removed]",
            "text/plain": [
              "<Figure size 432x288 with 1 Axes>"
            ]
          },
          "metadata": {
            "tags": []
          }
        }
      ]
    },
    {
      "cell_type": "code",
      "metadata": {
        "id": "_D8tULqGv49b",
        "colab": {
          "base_uri": "https://localhost:8080/"
        },
        "outputId": "73f5f5de-d958-4b9f-f404-fb55a2c4ba42"
      },
      "source": [
        "df_2016 = df[df.Start_Time.dt.year == 2016]\n",
        "sns.distplot(df_2016.Start_Time.dt.month, bins=12, norm_hist=True, kde=False)"
      ],
      "execution_count": null,
      "outputs": [
        {
          "output_type": "stream",
          "text": [
            "/usr/local/lib/python3.7/dist-packages/seaborn/distributions.py:2557: FutureWarning: `distplot` is a deprecated function and will be removed in a future version. Please adapt your code to use either `displot` (a figure-level function with similar flexibility) or `histplot` (an axes-level function for histograms).\n",
            "  warnings.warn(msg, FutureWarning)\n"
          ],
          "name": "stderr"
        },
        {
          "output_type": "execute_result",
          "data": {
            "text/plain": [
              "<matplotlib.axes._subplots.AxesSubplot at 0x7efd44e62210>"
            ]
          },
          "metadata": {
            "tags": []
          },
          "execution_count": 0
        },
        {
          "output_type": "display_data",
          "data": {
            "image/png": "[encoded data removed]",
            "text/plain": [
              "<Figure size 432x288 with 1 Axes>"
            ]
          },
          "metadata": {
            "tags": []
          }
        }
      ]
    },
    {
      "cell_type": "markdown",
      "metadata": {
        "id": "7rfJkps5wCST"
      },
      "source": [
        "\n",
        "\n",
        "> In General, accidents semms to occur slightly more in winter compare to summer.\n",
        "\n",
        "\n",
        "> However, maybe because of the missing datas for few months in 2016, overall trend seems to be exgagrated. \n",
        "\n",
        "\n",
        "\n"
      ]
    },
    {
      "cell_type": "markdown",
      "metadata": {
        "id": "oD-wiUXK3oib"
      },
      "source": [
        "### Start_Lat, Start_Lng\n"
      ]
    },
    {
      "cell_type": "code",
      "metadata": {
        "id": "4nFG660G3yGB",
        "colab": {
          "base_uri": "https://localhost:8080/"
        },
        "outputId": "47c85078-d027-4d0a-e72d-8b080d7bfab1"
      },
      "source": [
        "df.Start_Lat"
      ],
      "execution_count": null,
      "outputs": [
        {
          "output_type": "execute_result",
          "data": {
            "text/plain": [
              "0          34.808868\n",
              "1          35.090080\n",
              "2          37.145730\n",
              "3          39.110390\n",
              "4          26.102942\n",
              "             ...    \n",
              "2906605    29.813824\n",
              "2906606    34.068890\n",
              "2906607    25.702200\n",
              "2906608    40.660140\n",
              "2906609    38.831749\n",
              "Name: Start_Lat, Length: 2906610, dtype: float64"
            ]
          },
          "metadata": {
            "tags": []
          },
          "execution_count": 0
        }
      ]
    },
    {
      "cell_type": "code",
      "metadata": {
        "id": "y6cxNHiSFLPz",
        "colab": {
          "base_uri": "https://localhost:8080/"
        },
        "outputId": "ee082dd2-3125-4b7b-d871-ddb53fa7122f"
      },
      "source": [
        "df.Start_Lng"
      ],
      "execution_count": null,
      "outputs": [
        {
          "output_type": "execute_result",
          "data": {
            "text/plain": [
              "0          -82.269157\n",
              "1          -80.745560\n",
              "2         -121.985052\n",
              "3         -119.773781\n",
              "4          -80.265091\n",
              "              ...    \n",
              "2906605    -95.399437\n",
              "2906606   -117.342010\n",
              "2906607    -80.335556\n",
              "2906608   -111.952460\n",
              "2906609   -104.748161\n",
              "Name: Start_Lng, Length: 2906610, dtype: float64"
            ]
          },
          "metadata": {
            "tags": []
          },
          "execution_count": 0
        }
      ]
    },
    {
      "cell_type": "code",
      "metadata": {
        "id": "dEtYqIVxF-0y"
      },
      "source": [
        "sample_df = df.sample(int(0.1*len(df)))"
      ],
      "execution_count": null,
      "outputs": []
    },
    {
      "cell_type": "code",
      "metadata": {
        "id": "YpiHue_yGM0K",
        "colab": {
          "base_uri": "https://localhost:8080/"
        },
        "outputId": "6c3d2819-6dd9-45af-ae87-5c164db281f1"
      },
      "source": [
        "sns.scatterplot(x=sample_df.Start_Lng, y=sample_df.Start_Lat,size=0.00001)"
      ],
      "execution_count": null,
      "outputs": [
        {
          "output_type": "execute_result",
          "data": {
            "text/plain": [
              "<matplotlib.axes._subplots.AxesSubplot at 0x7efd44e12b90>"
            ]
          },
          "metadata": {
            "tags": []
          },
          "execution_count": 0
        },
        {
          "output_type": "display_data",
          "data": {
            "image/png": "[encoded data removed]",
            "text/plain": [
              "<Figure size 432x288 with 1 Axes>"
            ]
          },
          "metadata": {
            "tags": []
          }
        }
      ]
    },
    {
      "cell_type": "code",
      "metadata": {
        "id": "-RhcjP_PHJNo"
      },
      "source": [
        "import folium\n",
        "from folium.plugins import HeatMap"
      ],
      "execution_count": null,
      "outputs": []
    },
    {
      "cell_type": "code",
      "metadata": {
        "id": "-6wLcLg8JxHz"
      },
      "source": [
        "sample_df = df.sample(int(0.001*len(df)))"
      ],
      "execution_count": null,
      "outputs": []
    },
    {
      "cell_type": "code",
      "metadata": {
        "id": "EPce3HSzIfSU"
      },
      "source": [
        "lat_lng_pair=zip(list(sample_df.Start_Lat),list(sample_df.Start_Lng))"
      ],
      "execution_count": null,
      "outputs": []
    },
    {
      "cell_type": "code",
      "metadata": {
        "id": "0ZiZOJK1Ixl6"
      },
      "source": [
        "map =folium.Map()\n",
        "HeatMap(lat_lng_pair).add_to(map)\n",
        "map"
      ],
      "execution_count": null,
      "outputs": []
    },
    {
      "cell_type": "markdown",
      "metadata": {
        "id": "IO7x5emQGbx8"
      },
      "source": [
        "\n",
        "\n",
        "> Accidents seems to be curated more around coast areas than in middle-region US\n",
        "\n"
      ]
    },
    {
      "cell_type": "markdown",
      "metadata": {
        "id": "S0ZSK6e1KWUO"
      },
      "source": [
        "### Weather_condition"
      ]
    },
    {
      "cell_type": "code",
      "metadata": {
        "id": "gKCJdL7RO9CF"
      },
      "source": [
        "df.Weather_Condition.unique()"
      ],
      "execution_count": null,
      "outputs": []
    },
    {
      "cell_type": "code",
      "metadata": {
        "id": "4szUqbeXKhHn"
      },
      "source": [
        "len(df.Weather_Condition.unique())"
      ],
      "execution_count": null,
      "outputs": []
    },
    {
      "cell_type": "code",
      "metadata": {
        "id": "8SiX6Eg7Ll6-"
      },
      "source": [
        "weathers = df.Weather_Condition.value_counts()\n",
        "weathers"
      ],
      "execution_count": null,
      "outputs": []
    },
    {
      "cell_type": "code",
      "metadata": {
        "id": "WfMj3FcXN4yp"
      },
      "source": [
        "sns.distplot(weathers)"
      ],
      "execution_count": null,
      "outputs": []
    },
    {
      "cell_type": "code",
      "metadata": {
        "id": "WVB_drX7WWY0"
      },
      "source": [
        "weathers[:10].plot(kind='barh')"
      ],
      "execution_count": null,
      "outputs": []
    },
    {
      "cell_type": "markdown",
      "metadata": {
        "id": "Ufkdwjf9W5Eg"
      },
      "source": [
        "\n",
        "\n",
        "> It supprising to see that highest number of accidents occurs when waether is clear or fair....reason behind that????\n",
        "\n"
      ]
    },
    {
      "cell_type": "markdown",
      "metadata": {
        "id": "0rqd5LD-XUWq"
      },
      "source": [
        "\n",
        "\n",
        "> Likely explanination may be that during extreme weathers people prefer not to drive.\n",
        "\n"
      ]
    }
  ]
}